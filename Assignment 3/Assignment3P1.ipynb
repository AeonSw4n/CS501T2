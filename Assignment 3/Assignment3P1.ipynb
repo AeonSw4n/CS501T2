{
 "cells": [
  {
   "cell_type": "code",
   "execution_count": 123,
   "metadata": {},
   "outputs": [],
   "source": [
    "import pandas as pd\n",
    "import numpy as np\n",
    "import seaborn as sns\n",
    "import matplotlib.pyplot as plt"
   ]
  },
  {
   "cell_type": "code",
   "execution_count": 124,
   "metadata": {},
   "outputs": [],
   "source": [
    "amounts = []\n",
    "# 2020\n",
    "df = pd.read_csv(\"checkbook_explorerfy20.csv\", sep=',', encoding='gbk')\n",
    "List1 = df[\"Dept_Name\"].unique()\n",
    "Dict1 = dict()\n",
    "\n",
    "for i in List1:\n",
    "    Dict1[i] = df.loc[df[\"Dept_Name\"] == i, \"Monetary_Amount\"].sum()\n",
    "    \n",
    "#amounts.append(sorted(Dict1.items(), key=lambda x: x[1], reverse=True))"
   ]
  },
  {
   "cell_type": "code",
   "execution_count": 125,
   "metadata": {
    "scrolled": true
   },
   "outputs": [],
   "source": [
    "#df = pd.read_csv(\"checkbook_explorerfy20.csv\")\n",
    "# 2019\n",
    "df = pd.read_csv(\"checkbook-explorer-fy19.csv\", sep=',', encoding='gbk')\n",
    "List1 = df[\"Department Name\"].unique()\n",
    "Dict2 = dict()\n",
    "\n",
    "for i in List1:\n",
    "    Dict2[i] = df.loc[df[\"Department Name\"] == i, \"Monetary Amount\"].sum()\n",
    "    \n",
    "#amounts.append(sorted(Dict2.items(), key=lambda x: x[1], reverse=True))"
   ]
  },
  {
   "cell_type": "code",
   "execution_count": 126,
   "metadata": {},
   "outputs": [],
   "source": [
    "# 2018\n",
    "df = pd.read_csv(\"checkbook-explorerfy18.csv\", sep=',', encoding='gbk')\n",
    "List1 = df[\"Department Name\"].unique()\n",
    "Dict3 = dict()\n",
    "\n",
    "for i in List1:\n",
    "    Dict3[i] = df.loc[df[\"Department Name\"] == i, \"Monetary Amount\"].sum()\n",
    "    \n",
    "#amounts.append(sorted(Dict3.items(), key=lambda x: x[1], reverse=True))"
   ]
  },
  {
   "cell_type": "code",
   "execution_count": 127,
   "metadata": {},
   "outputs": [],
   "source": [
    "# 2017\n",
    "df = pd.read_csv(\"checkbook-explorerfy17.csv\", sep=',', encoding='gbk')\n",
    "df['Monetary Amount'] = pd.to_numeric(df['Monetary Amount'].replace('\\$|,', '', regex=True).replace('\\\\([^\\\\(]*\\\\)', '', regex=True))\n",
    "List1 = df[\"Department Name\"].unique()\n",
    "Dict4 = dict()\n",
    "\n",
    "df.loc[df[\"Department Name\"] == \"Neighborhood Development\", \"Monetary Amount\"]\n",
    "for i in List1:\n",
    "    Dict4[i] = df.loc[df[\"Department Name\"] == i, \"Monetary Amount\"].sum()\n",
    "    \n",
    "#amounts.append(sorted(Dict4.items(), key=lambda x: x[1], reverse=True))"
   ]
  },
  {
   "cell_type": "code",
   "execution_count": 128,
   "metadata": {},
   "outputs": [],
   "source": [
    "# 2016\n",
    "df = pd.read_csv(\"checkbook-explorerfy16.csv\", sep=',', encoding='gbk')\n",
    "df['Monetary Amount'] = pd.to_numeric(df['Monetary Amount'].replace('\\$|,', '', regex=True).replace('\\\\([^\\\\(]*\\\\)', '', regex=True))\n",
    "List1 = df[\"Department Name\"].unique()\n",
    "Dict5 = dict()\n",
    "\n",
    "df.loc[df[\"Department Name\"] == \"Neighborhood Development\", \"Monetary Amount\"]\n",
    "for i in List1:\n",
    "    Dict5[i] = df.loc[df[\"Department Name\"] == i, \"Monetary Amount\"].sum()\n",
    "    \n",
    "#amounts.append(sorted(Dict5.items(), key=lambda x: x[1], reverse=True))"
   ]
  },
  {
   "cell_type": "code",
   "execution_count": 129,
   "metadata": {},
   "outputs": [
    {
     "name": "stdout",
     "output_type": "stream",
     "text": [
      "Most money went to: Boston Public School Dept, $1668805792.23\n",
      "Second most money went to: Health Insurance, $1554031094.6399999\n",
      "Third most money went to: Public Works Department, $569021060.9799999\n"
     ]
    }
   ],
   "source": [
    "# health = 0\n",
    "# school = 0\n",
    "# works = 0\n",
    "# for i in range(len(amounts)):\n",
    "#     for j in range(3):\n",
    "#         if amounts[i][j][0] == 'Health Insurance':\n",
    "#             health += amounts[i][j][1]\n",
    "#         elif amounts[i][j][0] == 'Boston Public School Dept':\n",
    "#             school += amounts[i][j][1]\n",
    "#         elif amounts[i][j][0] == 'Public Works Department':\n",
    "#             works += amounts[i][j][1]\n",
    "\n",
    "# print(\"Most money went to: Boston Public School Dept, $\", school, sep=\"\")\n",
    "# print(\"Second most money went to: Health Insurance, $\", health, sep=\"\")\n",
    "# print(\"Third most money went to: Public Works Department, $\", works, sep=\"\")"
   ]
  },
  {
   "cell_type": "code",
   "execution_count": 130,
   "metadata": {},
   "outputs": [
    {
     "name": "stdout",
     "output_type": "stream",
     "text": [
      "{'Neighborhood Development': 346447998.69, 'Boston Public School Dept': 1668805792.23, 'Fire Department': 151948050.26000002, 'Emergency Management': 34418788.9, 'Boston Center-Youth & Families': 48411753.629999995, nan: 0.0, 'Property Management': 79489108.3, 'Age Strong': 763106.53, 'Public Works Department': 569021060.9799999, 'Police Department': 239193544.90999997, 'Auditing Department': 1720756.8900000001, 'Assessing Department': 2544428.5599999996, 'Dpt of Innovation & Technology': 162440377.64999998, 'Law Department': 9369927.72, 'Budget Management': 4406563.96, 'Inspectional Services Dept': 9295353.759999998, 'Procurement': 1269583.91, 'Human Resources': 3220021.6799999997, 'Parks & Recreation Department': 154721817.1, \"Veterans' Services\": 467394.49, \"Mayor's Office\": 1300177.77, 'Transportation Department': 69190949.13999999, 'Library Department': 150003642.1, 'Environment Department': 22920476.240000002, 'Treas Dept - Treasury Division': 277970376.15, 'Neighborhood Services': 924023.22, 'City Council': 819808.32, 'Office of Economic Development': 15437595.18, 'Public Facilities Dept': 903439.1999999998, 'Major Vendor Clearing Account': 4059499.5100000007, 'Cemetery Division': 2463288.19, 'Office of Arts & Culture': 5898172.6, 'Intergovernmental Relations': 1788181.8199999998, 'Parking Clerk': 24885396.85, 'Labor Relations': 1377436.8099999998, 'City Clerk': 399284.47, 'Collecting Division': 14328947.290000001, 'Central Fleet Management': 29341630.259999998, 'Health Insurance': 1554031094.6399999, 'Youth Engagement & Employment': 3522630.54, 'Election Department': 4436076.45, 'Workers Compensation Fund': 966527.35, 'Execution of Courts': 10998525.07, 'Administration & Finance': 1920162.9599999997, 'Office of Tourism': 2122896.26, 'Fair Housing & Equity': 462370.65, 'Registry Division': 288912.99, 'Ofc of Immigrant  Advancement': 894279.1900000001, 'Com. for Persons With Disabili': 60585.46, 'Purchasing Division': 1881445.1199999999, 'Elderly Commission': 26239932.740000002, 'Finance Commission': 7460.900000000001, 'Consumer Affairs & Licensing': 99419.37999999999, 'Snow Removal': 87078844.59, \"Women's Advancement\": 80436.14, 'Leading the Way': 3961701.96, 'SPO Intelepath Centrex': 11934498.43, 'Housing Trust Fund': 2123780.8899999997, 'Risk Retention Reserve': 7083966.28, 'Listing Board': 884668.24, 'Office of Streets': 252370.42999999996, 'Traffic Department': 20930003.77, 'Immigrarant Advancement': 351722.95999999996, 'Licensing Board': 12231.08, 'Emergency Shelter Commission': 84549.66, 'Boston Housing Authority': 4000000.0, 'Public Information': 8019.91, 'Lease Contracts Clearing Accou': 11261458.020000001, 'Office of Finance & Budget': 242594.18999999997, 'Property & Construction Mgmnt': 7621756.220000001, 'Office of New Bostonians': 444484.22000000003, 'Ofc. of Strts., Trnsp. & Sanit': 6720.669999999999, 'Small and  Local Business': 7.47}\n"
     ]
    }
   ],
   "source": [
    "AggDict = dict()\n",
    "for key, value in Dict1.items():\n",
    "    if key in AggDict:\n",
    "        AggDict[key] += value\n",
    "    else:\n",
    "        AggDict[key] = value\n",
    "        \n",
    "for key, value in Dict2.items():\n",
    "    if key in AggDict:\n",
    "        AggDict[key] += value\n",
    "    else:\n",
    "        AggDict[key] = value\n",
    "\n",
    "for key, value in Dict3.items():\n",
    "    if key in AggDict:\n",
    "        AggDict[key] += value\n",
    "    else:\n",
    "        AggDict[key] = value\n",
    "\n",
    "for key, value in Dict4.items():\n",
    "    if key in AggDict:\n",
    "        AggDict[key] += value\n",
    "    else:\n",
    "        AggDict[key] = value\n",
    "\n",
    "for key, value in Dict5.items():\n",
    "    if key in AggDict:\n",
    "        AggDict[key] += value\n",
    "    else:\n",
    "        AggDict[key] = value"
   ]
  },
  {
   "cell_type": "code",
   "execution_count": 132,
   "metadata": {},
   "outputs": [
    {
     "data": {
      "text/plain": [
       "[('Health Insurance', 311870502.03999996),\n",
       " ('Boston Public School Dept', 296521734.92),\n",
       " ('Public Works Department', 125586064.92),\n",
       " ('Neighborhood Development', 61267537.31999999),\n",
       " ('Library Department', 52719268.67999999),\n",
       " ('Dpt of Innovation & Technology', 34827294.099999994),\n",
       " ('Police Department', 33991835.22),\n",
       " ('Treas Dept - Treasury Division', 30842845.330000006),\n",
       " ('Parks & Recreation Department', 28567016.5),\n",
       " ('Fire Department', 21045532.310000002),\n",
       " ('Snow Removal', 15686811.870000001),\n",
       " ('Traffic Department', 11617064.719999999),\n",
       " ('Lease Contracts Clearing Accou', 11261458.020000001),\n",
       " ('Emergency Management', 7810157.7),\n",
       " ('Property & Construction Mgmnt', 7621756.220000001),\n",
       " ('Boston Center-Youth & Families', 6363313.4399999995),\n",
       " ('Elderly Commission', 5915029.84),\n",
       " ('Central Fleet Management', 5323146.08),\n",
       " ('Parking Clerk', 4561123.58),\n",
       " ('Property Management', 3686621.67),\n",
       " ('Leading the Way', 2803150.55),\n",
       " ('Collecting Division', 2688737.84),\n",
       " ('Law Department', 2310811.99),\n",
       " ('SPO Intelepath Centrex', 1938855.4599999995),\n",
       " ('Inspectional Services Dept', 1784037.79),\n",
       " ('Risk Retention Reserve', 1381441.0),\n",
       " ('Environment Department', 912577.56),\n",
       " ('Major Vendor Clearing Account', 886379.79),\n",
       " ('Assessing Department', 728710.8500000001),\n",
       " ('Office of Arts & Culture', 693608.39),\n",
       " ('Budget Management', 556625.61),\n",
       " ('Youth Engagement & Employment', 524600.5199999999),\n",
       " ('Labor Relations', 499539.63999999996),\n",
       " ('Election Department', 467118.42000000004),\n",
       " ('Office of New Bostonians', 444484.22000000003),\n",
       " ('Office of Tourism', 440300.23),\n",
       " ('Auditing Department', 373736.12),\n",
       " ('Cemetery Division', 340140.39),\n",
       " ('Intergovernmental Relations', 336587.24000000005),\n",
       " ('Housing Trust Fund', 311481.56000000006),\n",
       " ('Office of Finance & Budget', 242594.18999999997),\n",
       " ('Human Resources', 231895.29),\n",
       " ('Fair Housing & Equity', 220024.80000000002),\n",
       " ('Neighborhood Services', 196638.21999999997),\n",
       " ('City Council', 193891.48),\n",
       " ('Listing Board', 183648.76),\n",
       " (\"Mayor's Office\", 156577.52),\n",
       " ('Immigrarant Advancement', 147833.47),\n",
       " (\"Veterans' Services\", 95782.85),\n",
       " ('Workers Compensation Fund', 91665.26),\n",
       " ('Purchasing Division', 88712.68000000002),\n",
       " ('City Clerk', 86168.23),\n",
       " ('Emergency Shelter Commission', 78442.23),\n",
       " ('Office of Economic Development', 64777.41),\n",
       " ('Registry Division', 41936.25000000001),\n",
       " ('Licensing Board', 12076.64),\n",
       " ('Com. for Persons With Disabili', 10263.220000000001),\n",
       " ('Consumer Affairs & Licensing', 8462.670000000002),\n",
       " ('Ofc. of Strts., Trnsp. & Sanit', 6720.669999999999),\n",
       " ('Administration & Finance', 5378.999999999999),\n",
       " ('Execution of Courts', 5000.0),\n",
       " ('Public Information', 4422.39),\n",
       " ('Office of Streets', 3327.7200000000003),\n",
       " (\"Women's Advancement\", 2344.56),\n",
       " ('Finance Commission', 1153.3000000000002),\n",
       " ('Small and  Local Business', 7.47)]"
      ]
     },
     "execution_count": 132,
     "metadata": {},
     "output_type": "execute_result"
    }
   ],
   "source": [
    "AggAmounts = sorted(Dict5.items(), key=lambda x: x[1], reverse=True)\n",
    "AggAmounts"
   ]
  }
 ],
 "metadata": {
  "kernelspec": {
   "display_name": "Python 3",
   "language": "python",
   "name": "python3"
  },
  "language_info": {
   "codemirror_mode": {
    "name": "ipython",
    "version": 3
   },
   "file_extension": ".py",
   "mimetype": "text/x-python",
   "name": "python",
   "nbconvert_exporter": "python",
   "pygments_lexer": "ipython3",
   "version": "3.7.4"
  }
 },
 "nbformat": 4,
 "nbformat_minor": 2
}
